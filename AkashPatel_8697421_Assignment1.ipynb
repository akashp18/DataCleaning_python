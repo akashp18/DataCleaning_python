{
 "cells": [
  {
   "cell_type": "code",
   "execution_count": 655,
   "id": "ed9d0d0a",
   "metadata": {},
   "outputs": [
    {
     "name": "stdout",
     "output_type": "stream",
     "text": [
      "(204, 41)\n",
      "Object Number               object\n",
      "Object ID                    int64\n",
      "Department                  object\n",
      "Object Name                 object\n",
      "Title                       object\n",
      "Culture                     object\n",
      "Period                      object\n",
      "Dynasty                     object\n",
      "Reign                       object\n",
      "Portfolio                   object\n",
      "Artist Role                 object\n",
      "Artist Prefix               object\n",
      "Artist Display Name         object\n",
      "Artist Display Bio          object\n",
      "Artist Suffix               object\n",
      "Artist Nationality          object\n",
      "Artist Begin Date           object\n",
      "Artist End Date             object\n",
      "Object Date                 object\n",
      "Object Begin Date            int64\n",
      "Object End Date            float64\n",
      "Medium                      object\n",
      "Dimensions                  object\n",
      "Credit Line                 object\n",
      "Geography Type              object\n",
      "City                        object\n",
      "State                       object\n",
      "County                      object\n",
      "Country                     object\n",
      "Region                      object\n",
      "Subregion                   object\n",
      "Locale                      object\n",
      "Locus                       object\n",
      "Excavation                  object\n",
      "River                       object\n",
      "Classification              object\n",
      "Rights and Reproduction     object\n",
      "Link Resource               object\n",
      "Metadata Date               object\n",
      "Repository                  object\n",
      "Tags                        object\n",
      "dtype: object\n",
      "['Object ID' 'Object Begin Date' 'Object End Date']\n",
      "['Object Number' 'Department' 'Object Name' 'Title' 'Culture' 'Period'\n",
      " 'Dynasty' 'Reign' 'Portfolio' 'Artist Role' 'Artist Prefix'\n",
      " 'Artist Display Name' 'Artist Display Bio' 'Artist Suffix'\n",
      " 'Artist Nationality' 'Artist Begin Date' 'Artist End Date' 'Object Date'\n",
      " 'Medium' 'Dimensions' 'Credit Line' 'Geography Type' 'City' 'State'\n",
      " 'County' 'Country' 'Region' 'Subregion' 'Locale' 'Locus' 'Excavation'\n",
      " 'River' 'Classification' 'Rights and Reproduction' 'Link Resource'\n",
      " 'Metadata Date' 'Repository' 'Tags']\n"
     ]
    }
   ],
   "source": [
    "# import packages\n",
    "import pandas as pd\n",
    "import numpy as np\n",
    "import seaborn as sns\n",
    "\n",
    "pd.options.mode.chained_assignment = None\n",
    "\n",
    "# read the data\n",
    "df = pd.read_csv('Assignment1Data_Sample.csv')\n",
    "\n",
    "# shape and data types of the data\n",
    "print(df.shape)\n",
    "print(df.dtypes)\n",
    "\n",
    "# select numeric columns\n",
    "df_numeric = df.select_dtypes(include=[np.number])\n",
    "numeric_cols = df_numeric.columns.values\n",
    "print(numeric_cols)\n",
    "\n",
    "# select non numeric columns\n",
    "df_non_numeric = df.select_dtypes(exclude=[np.number])\n",
    "non_numeric_cols = df_non_numeric.columns.values\n",
    "print(non_numeric_cols)"
   ]
  },
  {
   "cell_type": "code",
   "execution_count": 656,
   "id": "5cc1d6e6",
   "metadata": {},
   "outputs": [],
   "source": [
    "#Filterig data with reuired fields and some other fields which might be useul to find missing values\n",
    "df = df.filter(['Object ID', 'Department', 'Object Name', 'Title', 'Culture', 'Artist Nationality', 'Object Begin Date', 'Object End Date', 'Medium', 'Credit Line','Country'])"
   ]
  },
  {
   "cell_type": "code",
   "execution_count": 657,
   "id": "7af4f1ec",
   "metadata": {},
   "outputs": [
    {
     "data": {
      "text/plain": [
       "Object ID               int64\n",
       "Department             object\n",
       "Object Name            object\n",
       "Title                  object\n",
       "Culture                object\n",
       "Artist Nationality     object\n",
       "Object Begin Date       int64\n",
       "Object End Date       float64\n",
       "Medium                 object\n",
       "Credit Line            object\n",
       "Country                object\n",
       "dtype: object"
      ]
     },
     "execution_count": 657,
     "metadata": {},
     "output_type": "execute_result"
    }
   ],
   "source": [
    "df.dtypes"
   ]
  },
  {
   "cell_type": "code",
   "execution_count": 658,
   "id": "a2efe423",
   "metadata": {},
   "outputs": [
    {
     "name": "stdout",
     "output_type": "stream",
     "text": [
      "Object ID - 0%\n",
      "Department - 0%\n",
      "Object Name - 0%\n",
      "Title - 5%\n",
      "Culture - 59%\n",
      "Artist Nationality - 57%\n",
      "Object Begin Date - 0%\n",
      "Object End Date - 1%\n",
      "Medium - 1%\n",
      "Credit Line - 0%\n",
      "Country - 84%\n"
     ]
    }
   ],
   "source": [
    "# % of missing values for each column\n",
    "for col in df.columns:\n",
    "    pct_missing = np.mean(df[col].isnull())\n",
    "    print('{} - {}%'.format(col, round(pct_missing*100)))"
   ]
  },
  {
   "cell_type": "code",
   "execution_count": 659,
   "id": "c83c9220",
   "metadata": {},
   "outputs": [
    {
     "name": "stdout",
     "output_type": "stream",
     "text": [
      "(204, 11)\n",
      "(200, 11)\n"
     ]
    }
   ],
   "source": [
    "#Removing duplicate values from dataset which shares common \"Object Number\" and assigned String datatype\n",
    "print(df.shape)\n",
    "df = df.drop_duplicates(subset='Object ID')\n",
    "print(df.shape)"
   ]
  },
  {
   "cell_type": "code",
   "execution_count": 660,
   "id": "55a5996f",
   "metadata": {},
   "outputs": [
    {
     "data": {
      "text/plain": [
       "(199, 11)"
      ]
     },
     "execution_count": 660,
     "metadata": {},
     "output_type": "execute_result"
    }
   ],
   "source": [
    "#before apply categorical, null values are removed\n",
    "df = df.dropna(subset=['Department'])\n",
    "df.shape"
   ]
  },
  {
   "cell_type": "code",
   "execution_count": 661,
   "id": "3c6228e3",
   "metadata": {},
   "outputs": [],
   "source": [
    "#all non numeric data in lower case to make data consistent\n",
    "for col in ['Object Name', 'Title', 'Culture', 'Artist Nationality',\n",
    " 'Medium', 'Credit Line', 'Country']:\n",
    "    df[col] = df[col].str.lower()"
   ]
  },
  {
   "cell_type": "code",
   "execution_count": 662,
   "id": "bc2b1476",
   "metadata": {},
   "outputs": [
    {
     "name": "stdout",
     "output_type": "stream",
     "text": [
      "imputing missing values for: Object End Date\n"
     ]
    }
   ],
   "source": [
    "#all numeric column into int and fill missing value\n",
    "for col in numeric_cols:\n",
    "    missing = df[col].isnull()\n",
    "    num_missing = np.sum(missing)\n",
    "    \n",
    "    if num_missing > 0:  # only do the imputation for the columns that have missing values.\n",
    "        print('imputing missing values for: {}'.format(col))\n",
    "        med = df[col].median()\n",
    "        df[col] = df[col].fillna(med).astype('int')"
   ]
  },
  {
   "cell_type": "code",
   "execution_count": 663,
   "id": "544ee76d",
   "metadata": {},
   "outputs": [
    {
     "name": "stdout",
     "output_type": "stream",
     "text": [
      "List of Nationality contains french:\n",
      "['french, born italy', 'french|french', 'french', 'french|french|french|french|french|french', 'french|french?|french', 'french|french', 'french', 'french|french|french|french|french', 'french|british', 'french|italian', 'french|french', 'french', 'french']\n",
      "List of Nationality contains american:\n",
      "['american|american', 'american', 'american', 'american', 'american', 'american', 'american', 'american', 'american', 'american', 'american', 'american|american|american', 'american', 'american', 'american', 'american', 'american', 'american', 'american', 'american|american', 'american', 'american', 'american, born russia', 'american', 'american', 'american', 'american', 'american, born russia', 'american', 'american', 'german|american|american|american', 'american']\n",
      "List of Nationality contains japanese:\n",
      "['japanese', 'japanese', 'japanese', 'japanese|japanese', 'japanese']\n",
      "List of Nationality contains italian:\n",
      "['italian', 'italian', 'italian', 'italian', 'italian', 'italian|bohemian', 'italian', 'italian', 'italian', 'italian|italian', 'italian|italian', 'italian', 'italian', 'italian|italian|italian|italian|italian', 'italian|italian|german', 'italian|british']\n",
      "List of Nationality contains british:\n",
      "['british', 'british|british', 'british', 'british|british|british|british|british|british|british', 'british', 'british, scottish', 'scottish|british|british, scottish|british|british']\n",
      "List of Nationality contains spanish:\n",
      "[]\n",
      "List of Nationality contains german:\n",
      "['netherlandish|german', 'german']\n",
      "List of Nationality contains dutch:\n",
      "['dutch|dutch|dutch', 'dutch']\n",
      "List of Nationality contains finnish:\n",
      "['finnish|finnish']\n"
     ]
    }
   ],
   "source": [
    "#data consistent for Artist Nationality\n",
    "for a in ['french','american','japanese','italian','british','spanish','german', 'dutch','finnish']:\n",
    "    df['Artist Nationality'] = df['Artist Nationality'].astype(\"string\")\n",
    "    syn = df[df['Artist Nationality'].str.contains(a)]['Artist Nationality']\n",
    "    syn = syn.tolist()\n",
    "    print(\"List of Nationality contains \" + a + \":\")\n",
    "    print(syn)\n",
    "    df['Artist Nationality'] = df['Artist Nationality'].replace(syn, a)"
   ]
  },
  {
   "cell_type": "code",
   "execution_count": 664,
   "id": "281bbc8b",
   "metadata": {},
   "outputs": [
    {
     "name": "stdout",
     "output_type": "stream",
     "text": [
      "List of Cultures contains spanish:\n",
      "['possibly spanish', 'spanish']\n",
      "List of Cultures contains greek:\n",
      "['possibly greek', 'greek, attic', 'greek, attic', 'greek, attic', 'greek, attic', 'greek, attic', 'greek, attic', 'greek, attic']\n",
      "List of Cultures contains french:\n",
      "['french', 'probably french', 'french', 'probably french', 'french', 'french', 'french', 'french', 'french']\n",
      "List of Cultures contains german:\n",
      "['german', 'german', 'german', 'german, silesia (bunzlau)', 'german, hanau', 'probably german', 'german']\n",
      "List of Cultures contains minoan:\n",
      "['minoan', 'minoan, crete']\n",
      "List of Cultures contains british:\n",
      "['british', 'british', 'british, chelsea', 'british, stoke-on-trent, staffordshire']\n",
      "List of Cultures contains italian:\n",
      "['italian', 'italian, venice', 'italian, venice']\n",
      "List of Cultures contains european:\n",
      "['european, eastern', 'european', 'european', 'european or middle eastern']\n"
     ]
    }
   ],
   "source": [
    "#data consistent for Culture\n",
    "for a in ['spanish','greek','french', 'german', 'minoan','british','italian', 'european']:\n",
    "    df['Culture'] = df['Culture'].astype(\"string\")\n",
    "    syn = df[df['Culture'].str.contains(a)]['Culture']\n",
    "    syn = syn.tolist()\n",
    "    print(\"List of Cultures contains \" + a + \":\")\n",
    "    print(syn)\n",
    "    df['Culture'] = df['Culture'].replace(syn, a)\n",
    "    \n",
    "df['Culture'] = df['Culture'].replace(['japan'], 'japanese')"
   ]
  },
  {
   "cell_type": "code",
   "execution_count": 665,
   "id": "a2878706",
   "metadata": {},
   "outputs": [],
   "source": [
    "#Adding Nationality Manually for some of the culture which is missing in current dataset\n",
    "df.loc[df.Culture == 'dutch', 'Artist Nationality'] = \"nederlandish\"\n",
    "df.loc[df.Culture == 'german', 'Artist Nationality'] = \"german\"\n",
    "df.loc[df.Culture =='thailand', 'Artist Nationality'] = \"thais\"\n",
    "df.loc[df.Culture == 'india (guler, punjab hills)', 'Artist Nationality'] = \"indian\"\n",
    "df.loc[df.Culture == 'european', 'Artist Nationality'] = \"european\"\n",
    "df.loc[df.Culture == 'romanian', 'Artist Nationality'] = \"romanian\"\n",
    "df.loc[df.Culture == 'greek', 'Artist Nationality'] = \"greek\"\n",
    "df.loc[df.Culture == 'spanish', 'Artist Nationality'] = \"spanish\"\n",
    "df.loc[df.Culture == 'cypriot', 'Artist Nationality'] = \"cyprus\"\n",
    "df.loc[df.Culture == 'italic', 'Artist Nationality'] = \"italian\"\n",
    "df.loc[df.Culture == 'minoan', 'Artist Nationality'] = \"greek\"\n",
    "df.loc[df.Culture == 'asmat people', 'Artist Nationality'] = \"indonesian\"\n",
    "df.loc[df.Culture == 'aztec', 'Artist Nationality'] = \"mexican\"\n",
    "df.loc[df.Culture == 'atlantic watershed', 'Artist Nationality'] = \"atlantic\"\n",
    "df.loc[df.Culture == 'abelam people', 'Artist Nationality'] = \"melanesians\"\n",
    "df.loc[df.Culture == 'mexican', 'Artist Nationality'] = \"mexican\"\n",
    "df.loc[df.Culture == 'timor', 'Artist Nationality'] = \"temorese\"\n",
    "df.loc[df.Culture == 'iran', 'Artist Nationality'] = \"iranians\"\n",
    "df.loc[df.Culture == 'catalan', 'Artist Nationality'] = \"catalonia\"\n",
    "df.loc[df.Culture == 'byzantine', 'Artist Nationality'] = \"greek\""
   ]
  },
  {
   "cell_type": "code",
   "execution_count": 666,
   "id": "d216b4a7",
   "metadata": {},
   "outputs": [],
   "source": [
    "#Adding Country Manually for some of the Nationality which is missing in current dataset\n",
    "df.loc[df['Artist Nationality'] == 'german', 'Country'] = \"germany\"\n",
    "df.loc[df['Artist Nationality'] == 'japanese', 'Country'] = \"japan\"\n",
    "df.loc[df['Artist Nationality'] == 'chinese', 'Country'] = \"china\"\n",
    "df.loc[df['Artist Nationality'] == 'thais', 'Country'] = \"thailand\"\n",
    "df.loc[df['Artist Nationality'] == 'indian', 'Country'] = \"india\"\n",
    "df.loc[df['Artist Nationality'] == 'british', 'Country'] = \"united kingdom\"\n",
    "df.loc[df['Artist Nationality'] == 'italian', 'Country'] = \"italy\"\n",
    "df.loc[df['Artist Nationality'] == 'european', 'Country'] = \"europe\"\n",
    "df.loc[df['Artist Nationality'] == 'romanian', 'Country'] = \"romania\"\n",
    "df.loc[df['Artist Nationality'] == 'cyprus', 'Country'] = \"cyprus\"\n",
    "df.loc[df['Artist Nationality'] == 'greek', 'Country'] = \"greece\""
   ]
  },
  {
   "cell_type": "code",
   "execution_count": 667,
   "id": "7bcfaec8",
   "metadata": {},
   "outputs": [],
   "source": [
    "#filling missing value of Artist nationality based on other records where Culture:Nationality matches\n",
    "g = df.dropna(subset=['Artist Nationality']).drop_duplicates('Culture').set_index('Culture')['Artist Nationality']\n",
    "g.drop(g.tail(1).index,inplace=True)\n",
    "df['Artist Nationality'] = df['Artist Nationality'].fillna(df['Culture'].map(g))"
   ]
  },
  {
   "cell_type": "code",
   "execution_count": 668,
   "id": "cb8df2c3",
   "metadata": {},
   "outputs": [
    {
     "name": "stdout",
     "output_type": "stream",
     "text": [
      "Artist Nationality\n",
      "american                           american\n",
      "nederlandish                          dutch\n",
      "japanese                           japanese\n",
      "german                               german\n",
      "spanish                             spanish\n",
      "chinese                               china\n",
      "thais                              thailand\n",
      "indian          india (guler, punjab hills)\n",
      "british                             british\n",
      "italian                             italian\n",
      "european                           european\n",
      "french                               french\n",
      "romanian                           romanian\n",
      "greek                                 greek\n",
      "cyprus                              cypriot\n",
      "indonesian                     asmat people\n",
      "mexican                               aztec\n",
      "atlantic                 atlantic watershed\n",
      "melanesians                   abelam people\n",
      "temorese                              timor\n",
      "iranians                               iran\n",
      "catalonia                           catalan\n",
      "Name: Culture, dtype: object\n"
     ]
    }
   ],
   "source": [
    "#filling missing value of culture based on other records where Nationality:Culture matches\n",
    "g = df.dropna(subset=['Culture']).drop_duplicates('Artist Nationality').dropna(subset=['Artist Nationality']).set_index('Artist Nationality')['Culture']\n",
    "print(g)\n",
    "df['Culture'] = df['Culture'].fillna(df['Artist Nationality'].map(g))"
   ]
  },
  {
   "cell_type": "code",
   "execution_count": 669,
   "id": "3825c8e5",
   "metadata": {},
   "outputs": [],
   "source": [
    "#filling missing value of Country based on other records where Culture:Country matches\n",
    "g = df.dropna(subset=['Country']).drop_duplicates('Culture').dropna(subset=['Culture']).set_index('Culture')['Country']\n",
    "df['Country'] = df['Country'].fillna(df['Culture'].map(g))"
   ]
  },
  {
   "cell_type": "code",
   "execution_count": 670,
   "id": "6ebc2a9e",
   "metadata": {},
   "outputs": [],
   "source": [
    "#applying Categorical on Culture, Artist Nationality and Country\n",
    "UniqueCulture = df['Culture'].dropna().unique()\n",
    "df.Culture = pd.Categorical(df.Culture, categories=UniqueCulture)\n",
    "df['CultureCategorical'] = df.Culture.cat.codes"
   ]
  },
  {
   "cell_type": "code",
   "execution_count": 671,
   "id": "c602be65",
   "metadata": {},
   "outputs": [],
   "source": [
    "#applying categorical for Departments  \n",
    "depts = df['Department'].unique()\n",
    "df.Department = pd.Categorical(df.Department, categories=depts)\n",
    "df['DepartmentCategorical'] = df.Department.cat.codes"
   ]
  },
  {
   "cell_type": "code",
   "execution_count": 672,
   "id": "907fcfca",
   "metadata": {},
   "outputs": [],
   "source": [
    "#applying categorical for Departments  \n",
    "countries = df['Country'].dropna().unique()\n",
    "df.Country = pd.Categorical(df.Country, categories=countries)\n",
    "df['CountryCategorical'] = df.Country.cat.codes"
   ]
  },
  {
   "cell_type": "code",
   "execution_count": 673,
   "id": "77fec208",
   "metadata": {},
   "outputs": [],
   "source": [
    "#I found some data with nagative sign in Object Begin Date and Object End Date and I havent change it \n",
    "# as \"from datautil.date import parse\" this parse will convert BC dates in nagative so here I dont think I need to make any changes."
   ]
  },
  {
   "cell_type": "code",
   "execution_count": 674,
   "id": "c8ccf272",
   "metadata": {},
   "outputs": [
    {
     "name": "stdout",
     "output_type": "stream",
     "text": [
      "Object ID - 0%\n",
      "Department - 0%\n",
      "Object Name - 1%\n",
      "Title - 5%\n",
      "Culture - 3%\n",
      "Artist Nationality - 1%\n",
      "Object Begin Date - 0%\n",
      "Object End Date - 0%\n",
      "Medium - 1%\n",
      "Credit Line - 0%\n",
      "Country - 5%\n",
      "CultureCategorical - 0%\n",
      "DepartmentCategorical - 0%\n",
      "CountryCategorical - 0%\n"
     ]
    }
   ],
   "source": [
    "#Missing data percentage after Cleaning perform.\n",
    "for col in df.columns:\n",
    "    pct_missing = np.mean(df[col].isnull())\n",
    "    print('{} - {}%'.format(col, round(pct_missing*100)))"
   ]
  },
  {
   "cell_type": "code",
   "execution_count": 675,
   "id": "f663f23d",
   "metadata": {},
   "outputs": [],
   "source": [
    "#MissingValue before cleaning and After Cleaning and adding some data values logically and manually\n",
    "#                      Before   After\n",
    "#Culture:              59%      3%\n",
    "#Artist Nationality    57%      1%\n",
    "#Country               84%      5%"
   ]
  },
  {
   "cell_type": "code",
   "execution_count": 677,
   "id": "2b574185",
   "metadata": {},
   "outputs": [],
   "source": [
    "#Preparing csv file for Categorical fields reffrence for Country, Nationality and Culture\n",
    "data = {'Department':df['Department'],\n",
    "        'DepartmentCategorical':df['DepartmentCategorical'],\n",
    "        'Culture':df['Culture'],\n",
    "        'CultureCategorical':df['CultureCategorical'],\n",
    "        'Country':df['Country'],\n",
    "        'CountryCategorical':df[\"CountryCategorical\"]\n",
    "       }\n",
    " \n",
    "# Create DataFrame\n",
    "df2 = pd.DataFrame(data)\n",
    "df2.to_csv (r'C:\\Users\\HP\\Desktop\\CategoricalColumnRefferenceValues.csv', index = None, header=True) "
   ]
  },
  {
   "cell_type": "code",
   "execution_count": 678,
   "id": "dd68354a",
   "metadata": {},
   "outputs": [],
   "source": [
    "#Filtering data for final cleaned dataset\n",
    "df = df.filter(['Object ID', 'DepartmentCategorical', 'Object Name', 'Title', 'CultureCategorical', 'Artist Nationality', 'Object Begin Date', 'Object End Date', 'Medium', 'Credit Line', 'CountryCategorical'])"
   ]
  },
  {
   "cell_type": "code",
   "execution_count": 679,
   "id": "e050e5ac",
   "metadata": {},
   "outputs": [],
   "source": [
    "df.to_csv (r'C:\\Users\\HP\\Desktop\\CleanDatasetFinal.csv', index = None, header=True)"
   ]
  }
 ],
 "metadata": {
  "kernelspec": {
   "display_name": "Python 3",
   "language": "python",
   "name": "python3"
  },
  "language_info": {
   "codemirror_mode": {
    "name": "ipython",
    "version": 3
   },
   "file_extension": ".py",
   "mimetype": "text/x-python",
   "name": "python",
   "nbconvert_exporter": "python",
   "pygments_lexer": "ipython3",
   "version": "3.8.8"
  }
 },
 "nbformat": 4,
 "nbformat_minor": 5
}
